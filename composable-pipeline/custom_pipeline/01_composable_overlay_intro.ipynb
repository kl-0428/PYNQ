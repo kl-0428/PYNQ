{
 "cells": [
  {
   "cell_type": "markdown",
   "metadata": {},
   "source": [
    "# Composable Overlay Introduction\n",
    "----\n",
    "\n",
    "<div class=\"alert alert-box alert-info\">\n",
    "Please use Jupyter labs http://&lt;board_ip_address&gt;/lab for this notebook.\n",
    "</div>\n",
    "\n",
    "This notebook provides an introductory overview of the Composable Overlay and how to use it from a Jupyter Notebook\n",
    "\n",
    "## Aims\n",
    "* Describe the Composable Pipeline architecture\n",
    "* Explore the `Composable` class\n",
    "\n",
    "## Table of Contents\n",
    "* [Introduction](#intro)\n",
    "* [The Composable Overlay Class](#composable_class)\n",
    "* [Download the Composable Overlay](#download)\n",
    "* [Explore Composable Dictionary](#c_dict)\n",
    "* [Explore DFX Dictionary](#dfx_dict)\n",
    "* [Documentation](#docs)\n",
    "* [Conclusion](#conclusion)\n",
    "\n",
    "## Revision History\n",
    "\n",
    "* v1.0 | 30 March 2021 | First notebook revision.\n",
    "\n",
    "----"
   ]
  },
  {
   "cell_type": "markdown",
   "metadata": {},
   "source": [
    "## Introduction <a class=\"anchor\" id=\"intro\"></a>\n",
    "\n",
    "A Composable Overlay is an overlay with a novel and clever architecture that allow us to adapt how the data flows between the IP cores connected to the switch.\n",
    "\n",
    "The key characteristic of a composable overlay is an AXI4-Stream Switch at its core, which plays the same role as an old [telephone switchboard](https://en.wikipedia.org/wiki/Telephone_switchboard). The AXI4-Stream Switch provides the runtime routing of the data flow from one IP to another in a one to one manner. \n",
    "\n",
    "On top of that, the composable overlay includes DFX (partial reconfigurable) regions that can bring new functionality to the design.\n",
    "\n",
    "The composable overlay architecture of a composable video overlay for the PYNQ-Z2 is shown in the image below\n",
    "\n",
    "![](../img/cv-4pr.png)"
   ]
  },
  {
   "cell_type": "markdown",
   "metadata": {},
   "source": [
    "## The Composable Overlay Class <a class=\"anchor\" id=\"composable_class\"></a>\n",
    "\n",
    "The `ComposableOverlay` class inherits from the pynq [`Overlay` class](https://pynq.readthedocs.io/en/latest/pynq_libraries/overlay.html#overlay) and enhances it by including the `.composable` hierarchy using the `Composable` class which abstracts the Composable Overlay logic in a pythonic way.\n",
    "\n",
    "Unpacking the previews paragraph, a `ComposableOverlay` object not only exposes the same methods and attributes as an `Overlay` object, but also, exposes new methods and attributes to compose pipelines at run time."
   ]
  },
  {
   "cell_type": "markdown",
   "metadata": {},
   "source": [
    "## Download the Composable Overlay <a class=\"anchor\" id=\"download\"></a>\n",
    "\n",
    "It is time to download the composable overlay using the `ComposableOverlay` class and grab a handler to the `.composable` hierarchy.\n",
    "\n",
    "The `ComposableOverlay` class will:\n",
    "\n",
    "1. Download the bitstream onto the FPGA\n",
    "1. Perform hardware discovery of the IP cores connected to the AXI4-Stream Switch\n",
    "1. Discovery the DFX regions available in the ComposableOverlay\n",
    "1. Configure the AXI4-Stream Switch with the default values"
   ]
  },
  {
   "cell_type": "code",
   "execution_count": null,
   "metadata": {},
   "outputs": [],
   "source": [
    "from composable_pipeline import ComposableOverlay\n",
    "\n",
    "ol = ComposableOverlay(\"../overlay/cv_dfx_4_pr.bit\")\n",
    "\n",
    "cpipe = ol.composable"
   ]
  },
  {
   "cell_type": "markdown",
   "metadata": {},
   "source": [
    "## Explore Composable Dictionary <a class=\"anchor\" id=\"c_dict\"></a>\n",
    "\n",
    "The `.c_dict` attribute displays all of the IP cores available to compose our pipeline. \n",
    "\n",
    "These IP cores can be on the static region or in the DFX regions. IP cores on the static region are `[loaded]` by default whereas the IP cores in the DFX regions are `[unloaded]` by default.\n",
    "\n",
    "If you expand an entry on this dictionary, you will see\n",
    "- ci: (consumer interface) the output stream of this IP is connected to this consumer interface on the AXI4-Stream Switch\n",
    "- pi: (producer interface) the input stream of this IP is connected from this producer interface on the AXI4-Stream Switch\n",
    "- dfx: whether or not the IP is within a DFX region\n",
    "- loaded: whether or not the IP is loaded"
   ]
  },
  {
   "cell_type": "code",
   "execution_count": null,
   "metadata": {},
   "outputs": [],
   "source": [
    "cpipe.c_dict"
   ]
  },
  {
   "cell_type": "markdown",
   "metadata": {},
   "source": [
    "You can also filter by loaded and unloaded IP cores using the `.loaded` and `.unloaded` attributes of the `c_dict`"
   ]
  },
  {
   "cell_type": "code",
   "execution_count": null,
   "metadata": {},
   "outputs": [],
   "source": [
    "cpipe.c_dict.loaded"
   ]
  },
  {
   "cell_type": "code",
   "execution_count": null,
   "metadata": {},
   "outputs": [],
   "source": [
    "cpipe.c_dict.unloaded"
   ]
  },
  {
   "cell_type": "markdown",
   "metadata": {},
   "source": [
    "## Explore DFX Dictionary <a class=\"anchor\" id=\"dfx_dict\"></a>\n",
    "\n",
    "The `.dfx_dict` attribute displays all of the DFX regions available in the composable overlay\n",
    "\n",
    "If you expand an entry on this dictionary, you will see\n",
    "- decoupler: name of the decoupler that handles the DFX regions\n",
    "- gpio: PS GPIO pins that enable decouple and status of said decoupler\n",
    "- ip: dictionary of partial bitstreams and IP cores contained in them"
   ]
  },
  {
   "cell_type": "code",
   "execution_count": null,
   "metadata": {},
   "outputs": [],
   "source": [
    "cpipe.dfx_dict"
   ]
  },
  {
   "cell_type": "markdown",
   "metadata": {},
   "source": [
    "## Documentation <a class=\"anchor\" id=\"docs\"></a>\n",
    "\n",
    "You can get more detailed documentation on any of the classes described above by using the built-in `help()` function. Or using the question mark (`?`)"
   ]
  },
  {
   "cell_type": "code",
   "execution_count": null,
   "metadata": {},
   "outputs": [],
   "source": [
    "from composable_pipeline import Composable"
   ]
  },
  {
   "cell_type": "code",
   "execution_count": null,
   "metadata": {},
   "outputs": [],
   "source": [
    "Composable.compose?"
   ]
  },
  {
   "cell_type": "code",
   "execution_count": null,
   "metadata": {},
   "outputs": [],
   "source": [
    "help(Composable)"
   ]
  },
  {
   "cell_type": "markdown",
   "metadata": {},
   "source": [
    "## Conclusion <a class=\"anchor\" id=\"conclusion\"></a>\n",
    "\n",
    "This notebook has introduced the `ComposableOverlay` class as well as `c_dict` and `dfx_dict`. We will use these dictionaries in the following notebooks to create custom pipelines\n",
    "\n",
    "| | [First Custom Pipeline ➡️](02_first_custom_pipeline.ipynb)"
   ]
  },
  {
   "cell_type": "markdown",
   "metadata": {},
   "source": [
    "Copyright &copy; 2021 Xilinx, Inc\n",
    "\n",
    "SPDX-License-Identifier: BSD-3-Clause\n",
    "\n",
    "----"
   ]
  }
 ],
 "metadata": {
  "kernelspec": {
   "display_name": "Python 3",
   "language": "python",
   "name": "python3"
  },
  "language_info": {
   "codemirror_mode": {
    "name": "ipython",
    "version": 3
   },
   "file_extension": ".py",
   "mimetype": "text/x-python",
   "name": "python",
   "nbconvert_exporter": "python",
   "pygments_lexer": "ipython3",
   "version": "3.6.5"
  },
  "widgets": {
   "application/vnd.jupyter.widget-state+json": {
    "state": {},
    "version_major": 2,
    "version_minor": 0
   }
  }
 },
 "nbformat": 4,
 "nbformat_minor": 4
}
