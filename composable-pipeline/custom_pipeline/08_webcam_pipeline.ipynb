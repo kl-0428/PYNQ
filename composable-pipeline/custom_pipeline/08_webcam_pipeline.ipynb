{
 "cells": [
  {
   "cell_type": "markdown",
   "metadata": {},
   "source": [
    "# Using a Webcam as input source of the Composable Pipeline\n",
    "----\n",
    "\n",
    "<div class=\"alert alert-box alert-info\">\n",
    "Please use Jupyter labs http://&lt;board_ip_address&gt;/lab for this notebook.\n",
    "</div>\n",
    "\n",
    "This notebook shows your how to use a Webcam as a input source for your composable pipeline\n",
    "\n",
    "## Aims\n",
    "* Use Webcam as an input video source\n",
    "* Compose a video pipeline over the webcam stream\n",
    "\n",
    "## Table of Contents\n",
    "* [Download Composable Overlay](#download)\n",
    "* [Configure Webcam](#setup_cam)\n",
    "* [Compose Pipeline](#pipeline)\n",
    "* [Modify Parameters](#parameters)\n",
    "* [Stop HDMI Video](#stop_hdmi)\n",
    "* [Conclusion](#conclusion)\n",
    "\n",
    "----\n",
    "\n",
    "## Revision History\n",
    "\n",
    "* v1.0 | 21 June 2021 | First notebook revision.\n",
    "\n",
    "----"
   ]
  },
  {
   "cell_type": "markdown",
   "metadata": {},
   "source": [
    "## Download Composable Overlay <a class=\"anchor\" id=\"download\"></a>\n",
    "\n",
    "Import the pynq video libraries as well as ComposableOverlay class and the drivers for the IP.\n",
    "\n",
    "Download the Composable Overlay using the `ComposableOverlay` and grab a handler to the `composable` hierarchy"
   ]
  },
  {
   "cell_type": "code",
   "execution_count": 11,
   "metadata": {},
   "outputs": [],
   "source": [
    "from pynq.lib.video import *\n",
    "from composable_pipeline import ComposableOverlay\n",
    "from composable_pipeline.libs import *\n",
    "from composable_pipeline.video import *\n",
    "from ipywidgets import widgets, interact, FloatSlider, IntSlider\n",
    "\n",
    "ol = ComposableOverlay(\"../overlay/cv_dfx_4_pr.bit\")\n",
    "\n",
    "cpipe = ol.composable"
   ]
  },
  {
   "cell_type": "markdown",
   "metadata": {},
   "source": [
    "## Configure Webcam <a class=\"anchor\" id=\"setup_cam\"></a>\n",
    "\n",
    "Configure the Webcam and grab handlers to the HDMI Out and configure both of them. Finally, start the video path\n",
    "\n",
    "<div class=\"alert alert-heading alert-danger\">\n",
    "    <h4 class=\"alert-heading\">Warning:</h4>\n",
    "\n",
    "Failure to connect HDMI output cable to an screen may cause the notebook to hang\n",
    "</div>"
   ]
  },
  {
   "cell_type": "code",
   "execution_count": 12,
   "metadata": {},
   "outputs": [],
   "source": [
    "video_in = Webcam()\n",
    "\n",
    "hdmi_out = ol.video.hdmi_out\n",
    "hdmi_out.configure(video_in.mode, PIXEL_BGR)\n",
    "\n",
    "video_in.start()\n",
    "hdmi_out.start();\n",
    "video_in.tie(hdmi_out)"
   ]
  },
  {
   "cell_type": "markdown",
   "metadata": {},
   "source": [
    "## Compose Pipeline <a class=\"anchor\" id=\"pipeline\"></a>"
   ]
  },
  {
   "cell_type": "markdown",
   "metadata": {},
   "source": [
    "Grab handlers to the HDMI Out video path"
   ]
  },
  {
   "cell_type": "code",
   "execution_count": 13,
   "metadata": {},
   "outputs": [],
   "source": [
    "video_out_in = cpipe.video.hdmi_out.pixel_unpack\n",
    "video_out_out =  cpipe.video.hdmi_out.color_convert"
   ]
  },
  {
   "cell_type": "markdown",
   "metadata": {},
   "source": [
    "<div class=\"alert alert-heading alert-danger\">\n",
    "    <h4 class=\"alert-heading\">Warning:</h4>\n",
    "\n",
    "Failure to pause the Webcam before using `.loadIP` may cause the notebook to hang\n",
    "</div>"
   ]
  },
  {
   "cell_type": "code",
   "execution_count": 14,
   "metadata": {},
   "outputs": [],
   "source": [
    "video_in.pause()"
   ]
  },
  {
   "cell_type": "markdown",
   "metadata": {},
   "source": [
    "In this part of the notebook, we will bring new functionality into the DFX regions to compose a corner detect application. \n",
    "\n",
    "Load dynamic IP, grab handlers and set up default values"
   ]
  },
  {
   "cell_type": "code",
   "execution_count": 15,
   "metadata": {},
   "outputs": [],
   "source": [
    "cpipe.loadIP(['pr_1/cornerHarris_accel', 'pr_fork/duplicate_accel', 'pr_join/add_accel'])"
   ]
  },
  {
   "cell_type": "markdown",
   "metadata": {},
   "source": [
    "Resume Webcam stream"
   ]
  },
  {
   "cell_type": "code",
   "execution_count": 16,
   "metadata": {},
   "outputs": [],
   "source": [
    "video_in.tie(hdmi_out)"
   ]
  },
  {
   "cell_type": "code",
   "execution_count": 17,
   "metadata": {},
   "outputs": [
    {
     "name": "stderr",
     "output_type": "stream",
     "text": [
      "Unhandled exception in thread started by <bound method Webcam._tie of <composable_pipeline.video.Webcam object at 0xa56438d0>>\n"
     ]
    }
   ],
   "source": [
    "harris = cpipe.pr_1.cornerHarris_accel\n",
    "duplicate = cpipe.pr_fork.duplicate_accel\n",
    "add = cpipe.pr_join.add_accel\n",
    "r2g = cpipe.video.composable.rgb2gray_accel\n",
    "g2r = cpipe.video.composable.gray2rgb_accel"
   ]
  },
  {
   "cell_type": "markdown",
   "metadata": {},
   "source": [
    "The Corner Detect is realized by adding (masking) the output of the Harris algorithm to the original image. In the Composable Overlay this is achieved by branching the pipeline, which is expressed as a list of a list."
   ]
  },
  {
   "cell_type": "code",
   "execution_count": 8,
   "metadata": {},
   "outputs": [
    {
     "data": {
      "image/svg+xml": [
       "<?xml version=\"1.0\" encoding=\"UTF-8\" standalone=\"no\"?>\n",
       "<!DOCTYPE svg PUBLIC \"-//W3C//DTD SVG 1.1//EN\"\n",
       " \"http://www.w3.org/Graphics/SVG/1.1/DTD/svg11.dtd\">\n",
       "<!-- Generated by graphviz version 2.40.1 (20161225.0304)\n",
       " -->\n",
       "<!-- Title: %5279560 Pages: 1 -->\n",
       "<svg width=\"1008pt\" height=\"58pt\"\n",
       " viewBox=\"0.00 0.00 1008.00 58.34\" xmlns=\"http://www.w3.org/2000/svg\" xmlns:xlink=\"http://www.w3.org/1999/xlink\">\n",
       "<g id=\"graph0\" class=\"graph\" transform=\"scale(.7385 .7385) rotate(0) translate(4 75)\">\n",
       "<title>%5279560</title>\n",
       "<polygon fill=\"#ffffff\" stroke=\"transparent\" points=\"-4,4 -4,-75 1361,-75 1361,4 -4,4\"/>\n",
       "<!-- pixel_unpack -->\n",
       "<g id=\"node1\" class=\"node\">\n",
       "<title>pixel_unpack</title>\n",
       "<polygon fill=\"none\" stroke=\"#000000\" points=\"89,-36 0,-36 0,0 89,0 89,-36\"/>\n",
       "<text text-anchor=\"middle\" x=\"44.5\" y=\"-14.3\" font-family=\"Times,serif\" font-size=\"14.00\" fill=\"#000000\">pixel_unpack</text>\n",
       "</g>\n",
       "<!-- pr_fork/duplicate_accel -->\n",
       "<g id=\"node2\" class=\"node\">\n",
       "<title>pr_fork/duplicate_accel</title>\n",
       "<polygon fill=\"none\" stroke=\"#000000\" points=\"331,-36 186,-36 186,0 331,0 331,-36\"/>\n",
       "<text text-anchor=\"middle\" x=\"258.5\" y=\"-14.3\" font-family=\"Times,serif\" font-size=\"14.00\" fill=\"#000000\">pr_fork/duplicate_accel</text>\n",
       "</g>\n",
       "<!-- pixel_unpack&#45;&gt;pr_fork/duplicate_accel -->\n",
       "<g id=\"edge1\" class=\"edge\">\n",
       "<title>pixel_unpack&#45;&gt;pr_fork/duplicate_accel</title>\n",
       "<path fill=\"none\" stroke=\"#00ff00\" d=\"M89.1009,-18C114.0841,-18 146.0435,-18 175.457,-18\"/>\n",
       "<polygon fill=\"#00ff00\" stroke=\"#00ff00\" points=\"175.7391,-21.5001 185.7391,-18 175.739,-14.5001 175.7391,-21.5001\"/>\n",
       "<text text-anchor=\"start\" x=\"107\" y=\"-21.8\" font-family=\"Times,serif\" font-size=\"14.00\" fill=\"#ffffff\">ci=1 pi=12</text>\n",
       "</g>\n",
       "<!-- rgb2gray_accel -->\n",
       "<g id=\"node3\" class=\"node\">\n",
       "<title>rgb2gray_accel</title>\n",
       "<polygon fill=\"none\" stroke=\"#000000\" points=\"528,-67 428,-67 428,-31 528,-31 528,-67\"/>\n",
       "<text text-anchor=\"middle\" x=\"478\" y=\"-45.3\" font-family=\"Times,serif\" font-size=\"14.00\" fill=\"#000000\">rgb2gray_accel</text>\n",
       "</g>\n",
       "<!-- pr_fork/duplicate_accel&#45;&gt;rgb2gray_accel -->\n",
       "<g id=\"edge2\" class=\"edge\">\n",
       "<title>pr_fork/duplicate_accel&#45;&gt;rgb2gray_accel</title>\n",
       "<path fill=\"none\" stroke=\"#00ff00\" d=\"M331.2854,-28.2795C359.3923,-32.249 391.1615,-36.7358 417.932,-40.5166\"/>\n",
       "<polygon fill=\"#00ff00\" stroke=\"#00ff00\" points=\"417.538,-43.9956 427.9292,-41.9285 418.5169,-37.0644 417.538,-43.9956\"/>\n",
       "<text text-anchor=\"start\" x=\"349\" y=\"-41.8\" font-family=\"Times,serif\" font-size=\"14.00\" fill=\"#ffffff\">ci=11 pi=2</text>\n",
       "</g>\n",
       "<!-- pr_join/add_accel -->\n",
       "<g id=\"node4\" class=\"node\">\n",
       "<title>pr_join/add_accel</title>\n",
       "<polygon fill=\"none\" stroke=\"#000000\" points=\"1168,-36 1055,-36 1055,0 1168,0 1168,-36\"/>\n",
       "<text text-anchor=\"middle\" x=\"1111.5\" y=\"-14.3\" font-family=\"Times,serif\" font-size=\"14.00\" fill=\"#000000\">pr_join/add_accel</text>\n",
       "</g>\n",
       "<!-- pr_fork/duplicate_accel&#45;&gt;pr_join/add_accel -->\n",
       "<g id=\"edge3\" class=\"edge\">\n",
       "<title>pr_fork/duplicate_accel&#45;&gt;pr_join/add_accel</title>\n",
       "<path fill=\"none\" stroke=\"#00ff00\" d=\"M331.0704,-10.0469C373.789,-6.0313 428.9018,-2 478,-2 478,-2 478,-2 908,-2 953.6414,-2 1004.8642,-6.0495 1044.5012,-10.074\"/>\n",
       "<polygon fill=\"#00ff00\" stroke=\"#00ff00\" points=\"1044.2691,-13.5686 1054.5775,-11.1217 1044.9932,-6.6062 1044.2691,-13.5686\"/>\n",
       "<text text-anchor=\"start\" x=\"659\" y=\"-5.8\" font-family=\"Times,serif\" font-size=\"14.00\" fill=\"#ffffff\">ci=12 pi=11</text>\n",
       "</g>\n",
       "<!-- pr_1/cornerHarris_accel -->\n",
       "<g id=\"node5\" class=\"node\">\n",
       "<title>pr_1/cornerHarris_accel</title>\n",
       "<polygon fill=\"none\" stroke=\"#000000\" points=\"767,-71 619,-71 619,-35 767,-35 767,-71\"/>\n",
       "<text text-anchor=\"middle\" x=\"693\" y=\"-49.3\" font-family=\"Times,serif\" font-size=\"14.00\" fill=\"#000000\">pr_1/cornerHarris_accel</text>\n",
       "</g>\n",
       "<!-- rgb2gray_accel&#45;&gt;pr_1/cornerHarris_accel -->\n",
       "<g id=\"edge4\" class=\"edge\">\n",
       "<title>rgb2gray_accel&#45;&gt;pr_1/cornerHarris_accel</title>\n",
       "<path fill=\"none\" stroke=\"#00ff00\" d=\"M528.1366,-49.9328C552.0125,-50.377 581.2275,-50.9205 608.3963,-51.426\"/>\n",
       "<polygon fill=\"#00ff00\" stroke=\"#00ff00\" points=\"608.63,-54.9308 618.6934,-51.6176 608.7603,-47.932 608.63,-54.9308\"/>\n",
       "<text text-anchor=\"start\" x=\"546\" y=\"-54.8\" font-family=\"Times,serif\" font-size=\"14.00\" fill=\"#ffffff\">ci=2 pi=8</text>\n",
       "</g>\n",
       "<!-- color_convert -->\n",
       "<g id=\"node7\" class=\"node\">\n",
       "<title>color_convert</title>\n",
       "<polygon fill=\"none\" stroke=\"#000000\" points=\"1357,-36 1265,-36 1265,0 1357,0 1357,-36\"/>\n",
       "<text text-anchor=\"middle\" x=\"1311\" y=\"-14.3\" font-family=\"Times,serif\" font-size=\"14.00\" fill=\"#000000\">color_convert</text>\n",
       "</g>\n",
       "<!-- pr_join/add_accel&#45;&gt;color_convert -->\n",
       "<g id=\"edge7\" class=\"edge\">\n",
       "<title>pr_join/add_accel&#45;&gt;color_convert</title>\n",
       "<path fill=\"none\" stroke=\"#00ff00\" d=\"M1168.1351,-18C1195.3063,-18 1227.7625,-18 1254.8681,-18\"/>\n",
       "<polygon fill=\"#00ff00\" stroke=\"#00ff00\" points=\"1254.9724,-21.5001 1264.9723,-18 1254.9723,-14.5001 1254.9724,-21.5001\"/>\n",
       "<text text-anchor=\"start\" x=\"1186\" y=\"-21.8\" font-family=\"Times,serif\" font-size=\"14.00\" fill=\"#ffffff\">ci=10 pi=1</text>\n",
       "</g>\n",
       "<!-- gray2rgb_accel -->\n",
       "<g id=\"node6\" class=\"node\">\n",
       "<title>gray2rgb_accel</title>\n",
       "<polygon fill=\"none\" stroke=\"#000000\" points=\"958,-68 858,-68 858,-32 958,-32 958,-68\"/>\n",
       "<text text-anchor=\"middle\" x=\"908\" y=\"-46.3\" font-family=\"Times,serif\" font-size=\"14.00\" fill=\"#000000\">gray2rgb_accel</text>\n",
       "</g>\n",
       "<!-- pr_1/cornerHarris_accel&#45;&gt;gray2rgb_accel -->\n",
       "<g id=\"edge5\" class=\"edge\">\n",
       "<title>pr_1/cornerHarris_accel&#45;&gt;gray2rgb_accel</title>\n",
       "<path fill=\"none\" stroke=\"#00ff00\" d=\"M767.2919,-51.9634C793.5348,-51.5972 822.7056,-51.1902 847.6517,-50.8421\"/>\n",
       "<polygon fill=\"#00ff00\" stroke=\"#00ff00\" points=\"847.7532,-54.3411 857.7034,-50.7018 847.6555,-47.3418 847.7532,-54.3411\"/>\n",
       "<text text-anchor=\"start\" x=\"785\" y=\"-54.8\" font-family=\"Times,serif\" font-size=\"14.00\" fill=\"#ffffff\">ci=8 pi=3</text>\n",
       "</g>\n",
       "<!-- gray2rgb_accel&#45;&gt;pr_join/add_accel -->\n",
       "<g id=\"edge6\" class=\"edge\">\n",
       "<title>gray2rgb_accel&#45;&gt;pr_join/add_accel</title>\n",
       "<path fill=\"none\" stroke=\"#00ff00\" d=\"M958.0423,-42.1309C984.1407,-38.027 1016.4205,-32.9511 1044.6307,-28.5151\"/>\n",
       "<polygon fill=\"#00ff00\" stroke=\"#00ff00\" points=\"1045.4859,-31.9237 1054.8208,-26.9127 1044.3984,-25.0087 1045.4859,-31.9237\"/>\n",
       "<text text-anchor=\"start\" x=\"976\" y=\"-41.8\" font-family=\"Times,serif\" font-size=\"14.00\" fill=\"#ffffff\">ci=3 pi=10</text>\n",
       "</g>\n",
       "</g>\n",
       "</svg>\n"
      ],
      "text/plain": [
       "<graphviz.dot.Digraph at 0xb0017510>"
      ]
     },
     "execution_count": 8,
     "metadata": {},
     "output_type": "execute_result"
    }
   ],
   "source": [
    "video_pipeline = [video_out_in, duplicate, [[r2g, harris, g2r], [1]], add, video_out_out]\n",
    "\n",
    "cpipe.compose(video_pipeline)\n",
    "\n",
    "cpipe.graph"
   ]
  },
  {
   "cell_type": "markdown",
   "metadata": {},
   "source": [
    "Finally start the video stream from the webcam to the HDMI Out"
   ]
  },
  {
   "cell_type": "markdown",
   "metadata": {},
   "source": [
    "## Modify Parameters <a class=\"anchor\" id=\"parameters\"></a>\n",
    "The corner Harris IP provides two parameters that help us tweak the sensitivity of the algorithm. These parameters are the threshold and k (Harris parameter), after running the next cell you will be able to update them."
   ]
  },
  {
   "cell_type": "code",
   "execution_count": 9,
   "metadata": {},
   "outputs": [
    {
     "data": {
      "application/vnd.jupyter.widget-view+json": {
       "model_id": "a5629f1b376144a4ad5023f0bf255e62",
       "version_major": 2,
       "version_minor": 0
      },
      "text/plain": [
       "interactive(children=(IntSlider(value=422, description='thr', max=1024), FloatSlider(value=0.04, description='…"
      ]
     },
     "metadata": {},
     "output_type": "display_data"
    }
   ],
   "source": [
    "thr = IntSlider(min=0, max=1024, step=1, value=422)\n",
    "k = FloatSlider(min=0, max=0.2, step=0.002, value=0.04, description='\\u03BA')\n",
    "def play(thr, k):\n",
    "    harris.threshold = thr\n",
    "    harris.k = k\n",
    "\n",
    "interact(play, thr=thr, k=k);"
   ]
  },
  {
   "cell_type": "markdown",
   "metadata": {},
   "source": [
    "## Stop HDMI Video <a class=\"anchor\" id=\"stop_hdmi\"></a>\n",
    "\n",
    "Finally stop the video stream\n",
    "\n",
    "<div class=\"alert alert-heading alert-danger\">\n",
    "    <h4 class=\"alert-heading\">Warning:</h4>\n",
    "\n",
    "Failure to stop HDMI Out may hang the board \n",
    "when trying to download another bitstream onto the FPGA\n",
    "</div>"
   ]
  },
  {
   "cell_type": "code",
   "execution_count": 10,
   "metadata": {},
   "outputs": [],
   "source": [
    "video_in.close()\n",
    "hdmi_out.close()"
   ]
  },
  {
   "cell_type": "markdown",
   "metadata": {},
   "source": [
    "----\n",
    "\n",
    "## Conclusion <a class=\"anchor\" id=\"conclusion\"></a>\n",
    "\n",
    "This notebook has shown how to compose a video pipeline using a Webcam as a video source\n",
    "\n",
    "[⬅️ Advanced Features](07_advanced_features.ipynb) | | "
   ]
  },
  {
   "cell_type": "markdown",
   "metadata": {},
   "source": [
    "Copyright &copy; 2021 Xilinx, Inc\n",
    "\n",
    "SPDX-License-Identifier: BSD-3-Clause\n",
    "\n",
    "----"
   ]
  }
 ],
 "metadata": {
  "kernelspec": {
   "display_name": "Python 3",
   "language": "python",
   "name": "python3"
  },
  "language_info": {
   "codemirror_mode": {
    "name": "ipython",
    "version": 3
   },
   "file_extension": ".py",
   "mimetype": "text/x-python",
   "name": "python",
   "nbconvert_exporter": "python",
   "pygments_lexer": "ipython3",
   "version": "3.6.5"
  },
  "widgets": {
   "application/vnd.jupyter.widget-state+json": {
    "state": {},
    "version_major": 2,
    "version_minor": 0
   }
  }
 },
 "nbformat": 4,
 "nbformat_minor": 4
}
