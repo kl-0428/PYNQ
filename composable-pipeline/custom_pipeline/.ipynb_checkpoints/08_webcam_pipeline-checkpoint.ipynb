{
 "cells": [
  {
   "cell_type": "markdown",
   "metadata": {},
   "source": [
    "# Using a Webcam as input source of the Composable Pipeline\n",
    "----\n",
    "\n",
    "<div class=\"alert alert-box alert-info\">\n",
    "Please use Jupyter labs http://&lt;board_ip_address&gt;/lab for this notebook.\n",
    "</div>\n",
    "\n",
    "This notebook shows your how to use a Webcam as a input source for your composable pipeline\n",
    "\n",
    "## Aims\n",
    "* Use Webcam as an input video source\n",
    "* Compose a video pipeline over the webcam stream\n",
    "\n",
    "## Table of Contents\n",
    "* [Download Composable Overlay](#download)\n",
    "* [Configure Webcam](#setup_cam)\n",
    "* [Compose Pipeline](#pipeline)\n",
    "* [Modify Parameters](#parameters)\n",
    "* [Stop HDMI Video](#stop_hdmi)\n",
    "* [Conclusion](#conclusion)\n",
    "\n",
    "----\n",
    "\n",
    "## Revision History\n",
    "\n",
    "* v1.0 | 21 June 2021 | First notebook revision.\n",
    "\n",
    "----"
   ]
  },
  {
   "cell_type": "markdown",
   "metadata": {},
   "source": [
    "## Download Composable Overlay <a class=\"anchor\" id=\"download\"></a>\n",
    "\n",
    "Import the pynq video libraries as well as ComposableOverlay class and the drivers for the IP.\n",
    "\n",
    "Download the Composable Overlay using the `ComposableOverlay` and grab a handler to the `composable` hierarchy"
   ]
  },
  {
   "cell_type": "code",
   "execution_count": null,
   "metadata": {},
   "outputs": [],
   "source": [
    "from pynq.lib.video import *\n",
    "from composable_pipeline import ComposableOverlay\n",
    "from composable_pipeline.libs import *\n",
    "from composable_pipeline.video import *\n",
    "from ipywidgets import widgets, interact, FloatSlider, IntSlider\n",
    "\n",
    "ol = ComposableOverlay(\"../overlay/cv_dfx_4_pr.bit\")\n",
    "\n",
    "cpipe = ol.composable"
   ]
  },
  {
   "cell_type": "markdown",
   "metadata": {},
   "source": [
    "## Configure Webcam <a class=\"anchor\" id=\"setup_cam\"></a>\n",
    "\n",
    "Configure the Webcam and grab handlers to the HDMI Out and configure both of them. Finally, start the video path\n",
    "\n",
    "<div class=\"alert alert-heading alert-danger\">\n",
    "    <h4 class=\"alert-heading\">Warning:</h4>\n",
    "\n",
    "Failure to connect HDMI output cable to an screen may cause the notebook to hang\n",
    "</div>"
   ]
  },
  {
   "cell_type": "code",
   "execution_count": null,
   "metadata": {},
   "outputs": [],
   "source": [
    "video_in = Webcam()\n",
    "\n",
    "hdmi_out = ol.video.hdmi_out\n",
    "hdmi_out.configure(video_in.mode, PIXEL_BGR)\n",
    "\n",
    "video_in.start()\n",
    "hdmi_out.start();\n",
    "video_in.tie(hdmi_out)"
   ]
  },
  {
   "cell_type": "markdown",
   "metadata": {},
   "source": [
    "## Compose Pipeline <a class=\"anchor\" id=\"pipeline\"></a>"
   ]
  },
  {
   "cell_type": "markdown",
   "metadata": {},
   "source": [
    "Grab handlers to the HDMI Out video path"
   ]
  },
  {
   "cell_type": "code",
   "execution_count": null,
   "metadata": {},
   "outputs": [],
   "source": [
    "video_out_in = cpipe.video.hdmi_out.pixel_unpack\n",
    "video_out_out =  cpipe.video.hdmi_out.color_convert"
   ]
  },
  {
   "cell_type": "markdown",
   "metadata": {},
   "source": [
    "<div class=\"alert alert-heading alert-danger\">\n",
    "    <h4 class=\"alert-heading\">Warning:</h4>\n",
    "\n",
    "Failure to pause the Webcam before using `.loadIP` may cause the notebook to hang\n",
    "</div>"
   ]
  },
  {
   "cell_type": "code",
   "execution_count": null,
   "metadata": {},
   "outputs": [],
   "source": [
    "video_in.pause()"
   ]
  },
  {
   "cell_type": "markdown",
   "metadata": {},
   "source": [
    "In this part of the notebook, we will bring new functionality into the DFX regions to compose a corner detect application. \n",
    "\n",
    "Load dynamic IP, grab handlers and set up default values"
   ]
  },
  {
   "cell_type": "code",
   "execution_count": null,
   "metadata": {},
   "outputs": [],
   "source": [
    "cpipe.loadIP(['pr_1/cornerHarris_accel', 'pr_fork/duplicate_accel', 'pr_join/add_accel'])"
   ]
  },
  {
   "cell_type": "markdown",
   "metadata": {},
   "source": [
    "Resume Webcam stream"
   ]
  },
  {
   "cell_type": "code",
   "execution_count": null,
   "metadata": {},
   "outputs": [],
   "source": [
    "video_in.tie(hdmi_out)"
   ]
  },
  {
   "cell_type": "code",
   "execution_count": null,
   "metadata": {},
   "outputs": [],
   "source": [
    "harris = cpipe.pr_1.cornerHarris_accel\n",
    "duplicate = cpipe.pr_fork.duplicate_accel\n",
    "add = cpipe.pr_join.add_accel\n",
    "r2g = cpipe.video.composable.rgb2gray_accel\n",
    "g2r = cpipe.video.composable.gray2rgb_accel"
   ]
  },
  {
   "cell_type": "markdown",
   "metadata": {},
   "source": [
    "The Corner Detect is realized by adding (masking) the output of the Harris algorithm to the original image. In the Composable Overlay this is achieved by branching the pipeline, which is expressed as a list of a list."
   ]
  },
  {
   "cell_type": "code",
   "execution_count": null,
   "metadata": {},
   "outputs": [],
   "source": [
    "video_pipeline = [video_out_in, duplicate, [[r2g, harris, g2r], [1]], add, video_out_out]\n",
    "\n",
    "cpipe.compose(video_pipeline)\n",
    "\n",
    "cpipe.graph"
   ]
  },
  {
   "cell_type": "markdown",
   "metadata": {},
   "source": [
    "Finally start the video stream from the webcam to the HDMI Out"
   ]
  },
  {
   "cell_type": "markdown",
   "metadata": {},
   "source": [
    "## Modify Parameters <a class=\"anchor\" id=\"parameters\"></a>\n",
    "The corner Harris IP provides two parameters that help us tweak the sensitivity of the algorithm. These parameters are the threshold and k (Harris parameter), after running the next cell you will be able to update them."
   ]
  },
  {
   "cell_type": "code",
   "execution_count": null,
   "metadata": {},
   "outputs": [],
   "source": [
    "thr = IntSlider(min=0, max=1024, step=1, value=422)\n",
    "k = FloatSlider(min=0, max=0.2, step=0.002, value=0.04, description='\\u03BA')\n",
    "def play(thr, k):\n",
    "    harris.threshold = thr\n",
    "    harris.k = k\n",
    "\n",
    "interact(play, thr=thr, k=k);"
   ]
  },
  {
   "cell_type": "markdown",
   "metadata": {},
   "source": [
    "## Stop HDMI Video <a class=\"anchor\" id=\"stop_hdmi\"></a>\n",
    "\n",
    "Finally stop the video stream\n",
    "\n",
    "<div class=\"alert alert-heading alert-danger\">\n",
    "    <h4 class=\"alert-heading\">Warning:</h4>\n",
    "\n",
    "Failure to stop HDMI Out may hang the board \n",
    "when trying to download another bitstream onto the FPGA\n",
    "</div>"
   ]
  },
  {
   "cell_type": "code",
   "execution_count": null,
   "metadata": {},
   "outputs": [],
   "source": [
    "video_in.close()\n",
    "hdmi_out.close()"
   ]
  },
  {
   "cell_type": "markdown",
   "metadata": {},
   "source": [
    "----\n",
    "\n",
    "## Conclusion <a class=\"anchor\" id=\"conclusion\"></a>\n",
    "\n",
    "This notebook has shown how to compose a video pipeline using a Webcam as a video source\n",
    "\n",
    "[⬅️ Advanced Features](07_advanced_features.ipynb) | | "
   ]
  },
  {
   "cell_type": "markdown",
   "metadata": {},
   "source": [
    "Copyright &copy; 2021 Xilinx, Inc\n",
    "\n",
    "SPDX-License-Identifier: BSD-3-Clause\n",
    "\n",
    "----"
   ]
  }
 ],
 "metadata": {
  "kernelspec": {
   "display_name": "Python 3",
   "language": "python",
   "name": "python3"
  },
  "language_info": {
   "codemirror_mode": {
    "name": "ipython",
    "version": 3
   },
   "file_extension": ".py",
   "mimetype": "text/x-python",
   "name": "python",
   "nbconvert_exporter": "python",
   "pygments_lexer": "ipython3",
   "version": "3.6.5"
  },
  "widgets": {
   "application/vnd.jupyter.widget-state+json": {
    "state": {},
    "version_major": 2,
    "version_minor": 0
   }
  }
 },
 "nbformat": 4,
 "nbformat_minor": 4
}
